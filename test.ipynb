{
 "cells": [
  {
   "cell_type": "code",
   "execution_count": 17,
   "metadata": {},
   "outputs": [
    {
     "name": "stdout",
     "output_type": "stream",
     "text": [
      "c:\\Users\\Ana Valls\\Desktop\\CURSO BIG DATA\\IBM\\Machine Learning with Python\\Proyecto 6\n",
      "Datos de consumo de energía:\n",
      "         Date Source_Type  Energy_Consumed  Efficiency\n",
      "0  2023-01-01       Solar             1200        85.5\n",
      "1  2023-01-02        Wind             1500        90.2\n",
      "2  2023-01-03       Hydro             1100        88.0\n",
      "3  2023-01-04       Solar             1300        84.0\n",
      "4  2023-01-05        Wind             1600        92.5\n"
     ]
    }
   ],
   "source": [
    "import os\n",
    "import pandas as pd\n",
    "\n",
    "print(os.getcwd())\n",
    "\n",
    "os.chdir(r'C:\\Users\\Ana Valls\\Desktop\\CURSO BIG DATA\\IBM\\Machine Learning with Python\\Proyecto 6')\n",
    "\n",
    "try:\n",
    "    df = pd.read_csv('energy_data.csv')\n",
    "    print(\"Datos de consumo de energía:\")\n",
    "    print(df.head())\n",
    "except pd.errors.ParserError as e:\n",
    "    print(f\"Error al analizar el archivo CSV: {e}\")\n",
    "except Exception as e:\n",
    "    print(f\"Otro error al leer el archivo CSV: {e}\")\n"
   ]
  },
  {
   "cell_type": "code",
   "execution_count": 2,
   "metadata": {},
   "outputs": [
    {
     "name": "stdout",
     "output_type": "stream",
     "text": [
      "Datos preprocesados de consumo de energía:\n",
      "        Date  Energy_Consumed  Efficiency  Source_Type_Hydro  \\\n",
      "0 2023-01-01             1200        85.5              False   \n",
      "1 2023-01-02             1500        90.2              False   \n",
      "2 2023-01-03             1100        88.0               True   \n",
      "3 2023-01-04             1300        84.0              False   \n",
      "4 2023-01-05             1600        92.5              False   \n",
      "\n",
      "   Source_Type_Solar  Source_Type_Wind  \n",
      "0               True             False  \n",
      "1              False              True  \n",
      "2              False             False  \n",
      "3               True             False  \n",
      "4              False              True  \n"
     ]
    },
    {
     "name": "stderr",
     "output_type": "stream",
     "text": [
      "C:\\Users\\Ana Valls\\AppData\\Local\\Temp\\ipykernel_10616\\3196914814.py:10: FutureWarning: A value is trying to be set on a copy of a DataFrame or Series through chained assignment using an inplace method.\n",
      "The behavior will change in pandas 3.0. This inplace method will never work because the intermediate object on which we are setting values always behaves as a copy.\n",
      "\n",
      "For example, when doing 'df[col].method(value, inplace=True)', try using 'df.method({col: value}, inplace=True)' or df[col] = df[col].method(value) instead, to perform the operation inplace on the original object.\n",
      "\n",
      "\n",
      "  df['Efficiency'].fillna(df['Efficiency'].mean(), inplace=True)\n"
     ]
    }
   ],
   "source": [
    "\n",
    "if 'df' in locals() and not df.empty:\n",
    "\n",
    "    df['Date'] = pd.to_datetime(df['Date'])\n",
    "    \n",
    "    df = pd.get_dummies(df, columns=['Source_Type'])\n",
    "    \n",
    "    df['Efficiency'].fillna(df['Efficiency'].mean(), inplace=True)\n",
    "\n",
    "    print(\"Datos preprocesados de consumo de energía:\")\n",
    "    print(df.head())\n",
    "else:\n",
    "    print(\"El DataFrame no se cargó correctamente. No se puede continuar con el procesamiento.\")\n"
   ]
  },
  {
   "cell_type": "code",
   "execution_count": 3,
   "metadata": {},
   "outputs": [
    {
     "name": "stdout",
     "output_type": "stream",
     "text": [
      "Predicciones de consumo de energía: [1068.25396825 1604.87528345]\n"
     ]
    }
   ],
   "source": [
    "from sklearn.model_selection import train_test_split\n",
    "from sklearn.linear_model import LinearRegression\n",
    "\n",
    "X = df.drop(['Date', 'Energy_Consumed'], axis=1)\n",
    "y = df['Energy_Consumed']\n",
    "\n",
    "X_train, X_test, y_train, y_test = train_test_split(X, y, test_size=0.2, random_state=42)\n",
    "\n",
    "model = LinearRegression()\n",
    "model.fit(X_train, y_train)\n",
    "\n",
    "y_pred = model.predict(X_test)\n",
    "\n",
    "print('Predicciones de consumo de energía:', y_pred)\n"
   ]
  },
  {
   "cell_type": "code",
   "execution_count": 4,
   "metadata": {},
   "outputs": [
    {
     "name": "stdout",
     "output_type": "stream",
     "text": [
      "              precision    recall  f1-score   support\n",
      "\n",
      "        High       1.00      1.00      1.00         1\n",
      "      Medium       1.00      1.00      1.00         1\n",
      "\n",
      "    accuracy                           1.00         2\n",
      "   macro avg       1.00      1.00      1.00         2\n",
      "weighted avg       1.00      1.00      1.00         2\n",
      "\n"
     ]
    }
   ],
   "source": [
    "from sklearn.ensemble import RandomForestClassifier\n",
    "from sklearn.metrics import classification_report\n",
    "\n",
    "\n",
    "df['Efficiency_Class'] = pd.qcut(df['Efficiency'], q=3, labels=['Low', 'Medium', 'High'])\n",
    "\n",
    "X = df.drop(['Date', 'Energy_Consumed', 'Efficiency', 'Efficiency_Class'], axis=1)\n",
    "y = df['Efficiency_Class']\n",
    "\n",
    "X_train, X_test, y_train, y_test = train_test_split(X, y, test_size=0.2, random_state=42)\n",
    "\n",
    "clf = RandomForestClassifier(random_state=42)\n",
    "clf.fit(X_train, y_train)\n",
    "\n",
    "y_pred = clf.predict(X_test)\n",
    "\n",
    "print(classification_report(y_test, y_pred))\n"
   ]
  },
  {
   "cell_type": "code",
   "execution_count": 20,
   "metadata": {},
   "outputs": [
    {
     "name": "stdout",
     "output_type": "stream",
     "text": [
      "Datos del archivo CSV:\n",
      "         Date Source_Type  Energy_Consumed  Efficiency\n",
      "0  2023-01-01       Solar             1200        85.5\n",
      "1  2023-01-02        Wind             1500        90.2\n",
      "2  2023-01-03       Hydro             1100        88.0\n",
      "3  2023-01-04       Solar             1300        84.0\n",
      "4  2023-01-05        Wind             1600        92.5\n",
      "Columnas del DataFrame: Index(['Date', 'Source_Type', 'Energy_Consumed', 'Efficiency'], dtype='object')\n"
     ]
    }
   ],
   "source": [
    "try:\n",
    "    df = pd.read_csv('energy_data.csv')\n",
    "    print(\"Datos del archivo CSV:\")\n",
    "    print(df.head())\n",
    "except pd.errors.ParserError as e:\n",
    "    print(f\"Error al analizar el archivo CSV: {e}\")\n",
    "    df = pd.DataFrame()\n",
    "except Exception as e:\n",
    "    print(f\"Otro error al leer el archivo CSV: {e}\")\n",
    "    df = pd.DataFrame()\n",
    "    \n",
    "print(\"Columnas del DataFrame:\", df.columns)\n"
   ]
  },
  {
   "cell_type": "code",
   "execution_count": 23,
   "metadata": {},
   "outputs": [
    {
     "name": "stdout",
     "output_type": "stream",
     "text": [
      "Recomendaciones de fuentes de energía:\n",
      "Source_Type\n",
      "Wind     91.233333\n",
      "Hydro    87.266667\n",
      "Solar    83.750000\n",
      "Name: Efficiency, dtype: float64\n"
     ]
    }
   ],
   "source": [
    "def recommend_energy_source(df):\n",
    "\n",
    "    if 'Source_Type' not in df.columns or 'Efficiency' not in df.columns:\n",
    "        raise KeyError('Las columnas \"Source_Type\" y \"Efficiency\" deben estar en el DataFrame.')\n",
    "\n",
    "    efficiency_means = df.groupby('Source_Type')['Efficiency'].mean()\n",
    "    \n",
    "    recommended_sources = efficiency_means.sort_values(ascending=False)\n",
    "    \n",
    "    return recommended_sources\n",
    "\n",
    "print(\"Recomendaciones de fuentes de energía:\")\n",
    "try:\n",
    "    recommendations = recommend_energy_source(df)\n",
    "    print(recommendations)\n",
    "except KeyError as e:\n",
    "    print(f\"Error: {e}\")\n"
   ]
  },
  {
   "cell_type": "code",
   "execution_count": 28,
   "metadata": {},
   "outputs": [
    {
     "data": {
      "image/png": "[encoded data removed]",
      "text/plain": [
       "<Figure size 1000x600 with 1 Axes>"
      ]
     },
     "metadata": {},
     "output_type": "display_data"
    }
   ],
   "source": [
    "import matplotlib.pyplot as plt\n",
    "\n",
    "def plot_efficiency_matplotlib(df):\n",
    "    plt.figure(figsize=(10, 6))\n",
    "    plt.bar(recommendations.index, recommendations.values, color=['blue', 'green', 'orange'])\n",
    "    plt.xlabel('Tipo de Fuente de Energía')\n",
    "    plt.ylabel('Eficiencia Media (%)')\n",
    "    plt.title('Eficiencia Media por Tipo de Fuente de Energía')\n",
    "    plt.show()\n",
    "    \n",
    "plot_efficiency_matplotlib(df)"
   ]
  }
 ],
 "metadata": {
  "kernelspec": {
   "display_name": "Python 3",
   "language": "python",
   "name": "python3"
  },
  "language_info": {
   "codemirror_mode": {
    "name": "ipython",
    "version": 3
   },
   "file_extension": ".py",
   "mimetype": "text/x-python",
   "name": "python",
   "nbconvert_exporter": "python",
   "pygments_lexer": "ipython3",
   "version": "3.12.4"
  }
 },
 "nbformat": 4,
 "nbformat_minor": 2
}
